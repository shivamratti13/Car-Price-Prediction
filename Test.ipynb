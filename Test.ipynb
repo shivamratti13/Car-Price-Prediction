{
 "cells": [
  {
   "cell_type": "code",
   "execution_count": null,
   "id": "66d49658-d031-4417-9056-2d48afe077f3",
   "metadata": {},
   "outputs": [],
   "source": [
    "import pandas as pd\n",
    "import numpy as np\n",
    "from sklearn.model_selection import train_test_split, GridSearchCV, cross_val_score\n",
    "from sklearn.preprocessing import StandardScaler, OneHotEncoder\n",
    "from sklearn.compose import ColumnTransformer\n",
    "from sklearn.pipeline import Pipeline\n",
    "from sklearn.impute import SimpleImputer\n",
    "from sklearn.linear_model import LinearRegression\n",
    "from sklearn.preprocessing import PolynomialFeatures\n",
    "from sklearn.svm import SVR\n",
    "from sklearn.ensemble import RandomForestRegressor\n",
    "from xgboost import XGBRegressor\n",
    "from keras.models import Sequential\n",
    "from keras.layers import Dense\n",
    "from sklearn.metrics import mean_squared_error"
   ]
  },
  {
   "cell_type": "code",
   "execution_count": null,
   "id": "903f33c4-5dff-42d1-a6e7-70774d68e574",
   "metadata": {},
   "outputs": [],
   "source": [
    "# Load the data\n",
    "train_df = pd.read_csv('train.csv')\n",
    "test_df = pd.read_csv('test.csv')"
   ]
  },
  {
   "cell_type": "code",
   "execution_count": null,
   "id": "d78a0caa-1780-43c7-9ab0-5a23ce583b2a",
   "metadata": {},
   "outputs": [],
   "source": [
    "# Inspect the data\n",
    "print(train_df.info())\n",
    "print(test_df.info())"
   ]
  },
  {
   "cell_type": "code",
   "execution_count": null,
   "id": "8ecafd8f-c031-4e25-b2f7-ae41f0a2ebac",
   "metadata": {},
   "outputs": [],
   "source": [
    "# Feature Engineering\n",
    "# Assuming 'price' is the target variable and 'id' is an identifier\n",
    "\n",
    "# Drop irrelevant columns\n",
    "columns_to_drop = ['irrelevant_column1', 'irrelevant_column2'] # Replace with actual column names to drop\n",
    "train_df = train_df.drop(columns=columns_to_drop, errors='ignore')\n",
    "test_df = test_df.drop(columns=columns_to_drop, errors='ignore')"
   ]
  },
  {
   "cell_type": "code",
   "execution_count": null,
   "id": "e837f32c-5ed0-4f07-a78a-5dd8611db5ed",
   "metadata": {},
   "outputs": [],
   "source": [
    "# Transform 'engine' and 'transmission' columns\n",
    "def transform_engine(engine):\n",
    "    if 'V6' in engine:\n",
    "        return 'V6'\n",
    "    elif 'V8' in engine:\n",
    "        return 'V8'\n",
    "    elif 'Straight' in engine:\n",
    "        return 'Straight'\n",
    "    else:\n",
    "        return 'Other'\n",
    "\n",
    "def transform_transmission(transmission):\n",
    "    if 'Automatic' in transmission:\n",
    "        return 'Automatic'\n",
    "    else:\n",
    "        return 'Manual'"
   ]
  },
  {
   "cell_type": "code",
   "execution_count": null,
   "id": "9000a1c3-6f3c-4c96-b366-1017ca091a85",
   "metadata": {},
   "outputs": [],
   "source": [
    "train_df['engine_shape'] = train_df['engine'].apply(transform_engine)\n",
    "train_df['transmission_type'] = train_df['transmission'].apply(transform_transmission)"
   ]
  },
  {
   "cell_type": "code",
   "execution_count": null,
   "id": "ef423ed5-955d-40d5-b9f6-83398dac83b5",
   "metadata": {},
   "outputs": [],
   "source": [
    "test_df['engine_shape'] = test_df['engine'].apply(transform_engine)\n",
    "test_df['transmission_type'] = test_df['transmission'].apply(transform_transmission)\n"
   ]
  },
  {
   "cell_type": "code",
   "execution_count": null,
   "id": "10c3f6e6-96c2-43a2-8e89-da2c9f38828a",
   "metadata": {},
   "outputs": [],
   "source": [
    "# Drop original 'engine' and 'transmission' columns\n",
    "train_df = train_df.drop(['engine', 'transmission'], axis=1)\n",
    "test_df = test_df.drop(['engine', 'transmission'], axis=1)\n"
   ]
  },
  {
   "cell_type": "code",
   "execution_count": null,
   "id": "62b3fec3-0711-4df7-b64d-25d0d9cb2559",
   "metadata": {},
   "outputs": [],
   "source": [
    "# Define features and target variable\n",
    "X = train_df.drop(['price', 'id'], axis=1)\n",
    "y = train_df['price']\n",
    "X_test = test_df.drop(['id'], axis=1)"
   ]
  },
  {
   "cell_type": "code",
   "execution_count": null,
   "id": "64db1823-0a45-42e6-9dd4-6002afefe481",
   "metadata": {},
   "outputs": [],
   "source": [
    "# Preprocessing\n",
    "numeric_features = X.select_dtypes(include=['int64', 'float64']).columns\n",
    "categorical_features = X.select_dtypes(include=['object']).columns"
   ]
  },
  {
   "cell_type": "code",
   "execution_count": null,
   "id": "c39ebfc7-e0b4-478d-a95d-6c18ea4fb4fa",
   "metadata": {},
   "outputs": [],
   "source": [
    "numeric_transformer = Pipeline(steps=[\n",
    "    ('imputer', SimpleImputer(strategy='mean')),\n",
    "    ('scaler', StandardScaler())])\n",
    "\n",
    "categorical_transformer = Pipeline(steps=[\n",
    "    ('imputer', SimpleImputer(strategy='most_frequent')),\n",
    "    ('onehot', OneHotEncoder(handle_unknown='ignore'))])\n",
    "\n",
    "preprocessor = ColumnTransformer(\n",
    "    transformers=[\n",
    "        ('num', numeric_transformer, numeric_features),\n",
    "        ('cat', categorical_transformer, categorical_features)])"
   ]
  },
  {
   "cell_type": "code",
   "execution_count": null,
   "id": "93d0271f-e581-4754-b8f8-029bfc8e1d46",
   "metadata": {},
   "outputs": [],
   "source": [
    "# Models\n",
    "models = {\n",
    "    \"Linear Regression\": Pipeline(steps=[('preprocessor', preprocessor),\n",
    "                                         ('regressor', LinearRegression())]),\n",
    "    \"Polynomial Regression\": Pipeline(steps=[('preprocessor', preprocessor),\n",
    "                                             ('poly', PolynomialFeatures(degree=2)),\n",
    "                                             ('regressor', LinearRegression())]),\n",
    "    \"SVR\": Pipeline(steps=[('preprocessor', preprocessor),\n",
    "                           ('regressor', SVR())]),\n",
    "    \"Random Forest\": Pipeline(steps=[('preprocessor', preprocessor),\n",
    "                                     ('regressor', RandomForestRegressor())]),\n",
    "    \"XGBoost\": Pipeline(steps=[('preprocessor', preprocessor),\n",
    "                               ('regressor', XGBRegressor(objective='reg:squarederror'))])\n",
    "}"
   ]
  },
  {
   "cell_type": "code",
   "execution_count": null,
   "id": "85b3398f-6ba8-4472-8d45-68c399c303b0",
   "metadata": {},
   "outputs": [],
   "source": [
    "# Evaluate models using cross-validation\n",
    "results = {}\n",
    "for name, model in models.items():\n",
    "    cv_results = cross_val_score(model, X, y, cv=5, scoring='neg_root_mean_squared_error')\n",
    "    results[name] = -np.mean(cv_results)\n",
    "    print(f'{name}: RMSE = {-np.mean(cv_results)}')"
   ]
  },
  {
   "cell_type": "code",
   "execution_count": null,
   "id": "be55fd52-15ac-42c9-b232-5194100cd383",
   "metadata": {},
   "outputs": [],
   "source": [
    "\n",
    "# Select the best model\n",
    "best_model_name = min(results, key=results.get)\n",
    "best_model = models[best_model_name]\n",
    "print(f'Best model: {best_model_name}')\n"
   ]
  },
  {
   "cell_type": "code",
   "execution_count": null,
   "id": "b5292675-9f0f-4dcc-8283-f2504d768300",
   "metadata": {},
   "outputs": [],
   "source": [
    "# Train the best model on the entire training set\n",
    "best_model.fit(X, y)\n"
   ]
  },
  {
   "cell_type": "code",
   "execution_count": null,
   "id": "16ff4dd9-3ba5-40fd-a640-1e814095d5c5",
   "metadata": {},
   "outputs": [],
   "source": [
    "\n",
    "# Predict on test set\n",
    "predictions = best_model.predict(X_test)"
   ]
  },
  {
   "cell_type": "code",
   "execution_count": null,
   "id": "d658186f-7cb1-445c-b49e-e30fb9a3049e",
   "metadata": {},
   "outputs": [],
   "source": [
    "# Create submission file\n",
    "submission = pd.DataFrame({'id': test_df['id'], 'price': predictions})\n",
    "submission.to_csv('testing.csv', index=False)\n",
    "print('Submission file created successfully.')\n"
   ]
  }
 ],
 "metadata": {
  "kernelspec": {
   "display_name": "Python 3 (ipykernel)",
   "language": "python",
   "name": "python3"
  },
  "language_info": {
   "codemirror_mode": {
    "name": "ipython",
    "version": 3
   },
   "file_extension": ".py",
   "mimetype": "text/x-python",
   "name": "python",
   "nbconvert_exporter": "python",
   "pygments_lexer": "ipython3",
   "version": "3.10.5"
  }
 },
 "nbformat": 4,
 "nbformat_minor": 5
}
